{
 "cells": [
  {
   "cell_type": "markdown",
   "id": "dd4fb9e0",
   "metadata": {},
   "source": [
    "Install dependencies"
   ]
  },
  {
   "cell_type": "code",
   "execution_count": 107,
   "id": "5bab6594",
   "metadata": {},
   "outputs": [
    {
     "name": "stdout",
     "output_type": "stream",
     "text": [
      "Requirement already satisfied: opencv-python in c:\\users\\mail\\appdata\\roaming\\python\\python312\\site-packages (4.9.0.80)\n",
      "Requirement already satisfied: keras in c:\\users\\mail\\appdata\\roaming\\python\\python312\\site-packages (3.0.5)\n",
      "Requirement already satisfied: numpy in c:\\python312\\lib\\site-packages (1.26.3)\n",
      "Requirement already satisfied: matplotlib in c:\\users\\mail\\appdata\\roaming\\python\\python312\\site-packages (3.8.3)\n",
      "Requirement already satisfied: absl-py in c:\\users\\mail\\appdata\\roaming\\python\\python312\\site-packages (from keras) (2.1.0)\n",
      "Requirement already satisfied: rich in c:\\users\\mail\\appdata\\roaming\\python\\python312\\site-packages (from keras) (13.7.1)\n",
      "Requirement already satisfied: namex in c:\\users\\mail\\appdata\\roaming\\python\\python312\\site-packages (from keras) (0.0.7)\n",
      "Requirement already satisfied: h5py in c:\\users\\mail\\appdata\\roaming\\python\\python312\\site-packages (from keras) (3.10.0)\n",
      "Requirement already satisfied: dm-tree in c:\\users\\mail\\appdata\\roaming\\python\\python312\\site-packages (from keras) (0.1.8)\n",
      "Requirement already satisfied: ml-dtypes in c:\\users\\mail\\appdata\\roaming\\python\\python312\\site-packages (from keras) (0.3.2)\n",
      "Requirement already satisfied: contourpy>=1.0.1 in c:\\users\\mail\\appdata\\roaming\\python\\python312\\site-packages (from matplotlib) (1.2.0)\n",
      "Requirement already satisfied: cycler>=0.10 in c:\\users\\mail\\appdata\\roaming\\python\\python312\\site-packages (from matplotlib) (0.12.1)\n",
      "Requirement already satisfied: fonttools>=4.22.0 in c:\\users\\mail\\appdata\\roaming\\python\\python312\\site-packages (from matplotlib) (4.50.0)\n",
      "Requirement already satisfied: kiwisolver>=1.3.1 in c:\\users\\mail\\appdata\\roaming\\python\\python312\\site-packages (from matplotlib) (1.4.5)\n",
      "Requirement already satisfied: packaging>=20.0 in c:\\users\\mail\\appdata\\roaming\\python\\python312\\site-packages (from matplotlib) (24.0)\n",
      "Requirement already satisfied: pillow>=8 in c:\\python312\\lib\\site-packages (from matplotlib) (10.2.0)\n",
      "Requirement already satisfied: pyparsing>=2.3.1 in c:\\users\\mail\\appdata\\roaming\\python\\python312\\site-packages (from matplotlib) (3.1.2)\n",
      "Requirement already satisfied: python-dateutil>=2.7 in c:\\users\\mail\\appdata\\roaming\\python\\python312\\site-packages (from matplotlib) (2.9.0.post0)\n",
      "Requirement already satisfied: six>=1.5 in c:\\users\\mail\\appdata\\roaming\\python\\python312\\site-packages (from python-dateutil>=2.7->matplotlib) (1.16.0)\n",
      "Requirement already satisfied: markdown-it-py>=2.2.0 in c:\\users\\mail\\appdata\\roaming\\python\\python312\\site-packages (from rich->keras) (3.0.0)\n",
      "Requirement already satisfied: pygments<3.0.0,>=2.13.0 in c:\\users\\mail\\appdata\\roaming\\python\\python312\\site-packages (from rich->keras) (2.17.2)\n",
      "Requirement already satisfied: mdurl~=0.1 in c:\\users\\mail\\appdata\\roaming\\python\\python312\\site-packages (from markdown-it-py>=2.2.0->rich->keras) (0.1.2)\n",
      "Note: you may need to restart the kernel to use updated packages.\n"
     ]
    }
   ],
   "source": [
    "%pip install opencv-python keras numpy matplotlib --user"
   ]
  },
  {
   "cell_type": "markdown",
   "id": "7f1ea108",
   "metadata": {},
   "source": [
    "Import dependencies"
   ]
  },
  {
   "cell_type": "code",
   "execution_count": 108,
   "id": "historic-session",
   "metadata": {},
   "outputs": [],
   "source": [
    "import numpy as np\n",
    "import cv2\n",
    "import os\n",
    "import random\n",
    "import matplotlib.pyplot as plt\n",
    "import pickle"
   ]
  },
  {
   "cell_type": "markdown",
   "id": "06f33aba",
   "metadata": {},
   "source": [
    "Setup Dataset directory and category"
   ]
  },
  {
   "cell_type": "code",
   "execution_count": 109,
   "id": "first-wheel",
   "metadata": {},
   "outputs": [],
   "source": [
    "Directory = r'H:\\Drowsiness Detection\\dataset\\train'\n",
    "CATEGORIES = ['Closed' , 'Open', 'Yawn', 'No_yawn']"
   ]
  },
  {
   "cell_type": "markdown",
   "id": "1a51b00b",
   "metadata": {},
   "source": [
    "Convert dataset images to array"
   ]
  },
  {
   "cell_type": "code",
   "execution_count": 110,
   "id": "level-spine",
   "metadata": {},
   "outputs": [
    {
     "data": {
      "text/plain": [
       "2900"
      ]
     },
     "execution_count": 110,
     "metadata": {},
     "output_type": "execute_result"
    }
   ],
   "source": [
    "img_size = 24\n",
    "data = []\n",
    "\n",
    "for category in CATEGORIES:\n",
    "    folder = os.path.join(Directory,category)\n",
    "    label = CATEGORIES.index(category)\n",
    "    for img in os.listdir(folder):\n",
    "        img_path = os.path.join(folder, img)\n",
    "        img_arr = cv2.imread(img_path)\n",
    "        img_arr = cv2.cvtColor(img_arr, cv2.COLOR_BGR2GRAY)\n",
    "        img_arr = cv2.resize(img_arr,(img_size, img_size),1)\n",
    "        data.append([img_arr , label])\n",
    "        \n",
    "#Verify length of data\n",
    "len(data)"
   ]
  },
  {
   "cell_type": "markdown",
   "id": "c8d1a49f",
   "metadata": {},
   "source": [
    "Data preprocessing"
   ]
  },
  {
   "cell_type": "code",
   "execution_count": 111,
   "id": "cognitive-purple",
   "metadata": {},
   "outputs": [],
   "source": [
    "random.shuffle(data)\n",
    "\n",
    "feat = []\n",
    "lbl = []\n",
    "\n",
    "for features,label in data:\n",
    "    feat.append(features)\n",
    "    lbl.append(label)"
   ]
  },
  {
   "cell_type": "code",
   "execution_count": 112,
   "id": "answering-steel",
   "metadata": {},
   "outputs": [],
   "source": [
    "#covert them into array:\n",
    "feat = np.array(feat)\n",
    "lbl = np.array(lbl)"
   ]
  },
  {
   "cell_type": "code",
   "execution_count": 113,
   "id": "headed-addiction",
   "metadata": {},
   "outputs": [],
   "source": [
    "# save the data into system:\n",
    "pickle.dump(feat , open('feat.pkl' , 'wb'))\n",
    "pickle.dump(lbl , open('lbl.pkl' , 'wb'))"
   ]
  },
  {
   "cell_type": "code",
   "execution_count": 114,
   "id": "pretty-constitution",
   "metadata": {},
   "outputs": [],
   "source": [
    "# normalize the image array:\n",
    "feat = feat/255"
   ]
  },
  {
   "cell_type": "code",
   "execution_count": 115,
   "id": "scheduled-silver",
   "metadata": {},
   "outputs": [
    {
     "data": {
      "text/plain": [
       "array([[[0.59215686, 0.59215686, 0.58431373, ..., 0.41960784,\n",
       "         0.41960784, 0.40784314],\n",
       "        [0.56862745, 0.56862745, 0.56470588, ..., 0.41568627,\n",
       "         0.41568627, 0.41568627],\n",
       "        [0.69803922, 0.67843137, 0.62745098, ..., 0.41960784,\n",
       "         0.41568627, 0.40392157],\n",
       "        ...,\n",
       "        [0.17647059, 0.19607843, 0.46666667, ..., 0.40392157,\n",
       "         0.51764706, 0.82352941],\n",
       "        [0.38823529, 0.41960784, 0.29803922, ..., 0.37647059,\n",
       "         0.37647059, 0.48235294],\n",
       "        [0.37254902, 0.43529412, 0.31372549, ..., 1.        ,\n",
       "         0.58431373, 0.3254902 ]],\n",
       "\n",
       "       [[0.72156863, 0.7254902 , 0.5372549 , ..., 0.62745098,\n",
       "         0.62745098, 0.62745098],\n",
       "        [0.74509804, 0.52941176, 0.50980392, ..., 0.62745098,\n",
       "         0.63137255, 0.62352941],\n",
       "        [0.5372549 , 0.44313725, 0.57254902, ..., 0.61960784,\n",
       "         0.62352941, 0.61568627],\n",
       "        ...,\n",
       "        [0.64313725, 0.6627451 , 0.6745098 , ..., 0.61176471,\n",
       "         0.64313725, 0.67058824],\n",
       "        [0.64313725, 0.65490196, 0.66666667, ..., 0.61176471,\n",
       "         0.63921569, 0.67058824],\n",
       "        [0.63921569, 0.65098039, 0.65882353, ..., 0.61568627,\n",
       "         0.65098039, 0.6745098 ]],\n",
       "\n",
       "       [[0.85490196, 0.85882353, 0.85098039, ..., 0.43921569,\n",
       "         0.38431373, 0.34901961],\n",
       "        [0.8745098 , 0.86666667, 0.8627451 , ..., 0.50980392,\n",
       "         0.49411765, 0.48627451],\n",
       "        [0.8745098 , 0.87058824, 0.86666667, ..., 0.45882353,\n",
       "         0.47843137, 0.47843137],\n",
       "        ...,\n",
       "        [0.01568627, 0.03921569, 0.12941176, ..., 0.67058824,\n",
       "         0.85490196, 0.50588235],\n",
       "        [0.02745098, 0.04705882, 0.10196078, ..., 0.52156863,\n",
       "         0.55686275, 0.31372549],\n",
       "        [0.4627451 , 0.03921569, 0.09411765, ..., 0.49411765,\n",
       "         0.55686275, 0.34117647]],\n",
       "\n",
       "       ...,\n",
       "\n",
       "       [[0.53333333, 0.60784314, 0.60392157, ..., 0.23529412,\n",
       "         0.23137255, 0.22745098],\n",
       "        [0.53333333, 0.53333333, 0.53333333, ..., 0.35686275,\n",
       "         0.33333333, 0.29803922],\n",
       "        [0.54117647, 0.53333333, 0.52941176, ..., 0.32156863,\n",
       "         0.32156863, 0.31372549],\n",
       "        ...,\n",
       "        [0.34509804, 0.30196078, 0.03921569, ..., 0.99215686,\n",
       "         0.41176471, 0.18431373],\n",
       "        [0.01568627, 0.0745098 , 0.03529412, ..., 0.99215686,\n",
       "         0.99607843, 0.16862745],\n",
       "        [0.01568627, 0.05490196, 0.03529412, ..., 0.99215686,\n",
       "         1.        , 1.        ]],\n",
       "\n",
       "       [[0.10588235, 0.07843137, 0.09803922, ..., 0.27843137,\n",
       "         0.29411765, 0.26666667],\n",
       "        [0.1254902 , 0.13333333, 0.09411765, ..., 0.28235294,\n",
       "         0.27843137, 0.28627451],\n",
       "        [0.09019608, 0.10980392, 0.18039216, ..., 0.2745098 ,\n",
       "         0.2627451 , 0.31372549],\n",
       "        ...,\n",
       "        [0.14117647, 0.15686275, 0.11372549, ..., 0.09803922,\n",
       "         0.14901961, 0.12941176],\n",
       "        [0.18823529, 0.16862745, 0.14117647, ..., 0.17647059,\n",
       "         0.1254902 , 0.14901961],\n",
       "        [0.14509804, 0.16862745, 0.18039216, ..., 0.10980392,\n",
       "         0.14509804, 0.14509804]],\n",
       "\n",
       "       [[0.6627451 , 0.67843137, 0.6627451 , ..., 0.54117647,\n",
       "         0.37647059, 0.4627451 ],\n",
       "        [0.65098039, 0.63921569, 0.65882353, ..., 0.56470588,\n",
       "         0.44313725, 0.39215686],\n",
       "        [0.62745098, 0.63529412, 0.6       , ..., 0.7254902 ,\n",
       "         0.46666667, 0.38039216],\n",
       "        ...,\n",
       "        [0.78431373, 0.75686275, 0.76078431, ..., 0.72941176,\n",
       "         0.76862745, 0.77254902],\n",
       "        [0.79215686, 0.77254902, 0.76862745, ..., 0.85098039,\n",
       "         0.81960784, 0.80392157],\n",
       "        [0.79607843, 0.80392157, 0.80784314, ..., 0.83921569,\n",
       "         0.8627451 , 0.85490196]]])"
      ]
     },
     "execution_count": 115,
     "metadata": {},
     "output_type": "execute_result"
    }
   ],
   "source": [
    "feat"
   ]
  },
  {
   "cell_type": "code",
   "execution_count": 116,
   "id": "current-pasta",
   "metadata": {},
   "outputs": [
    {
     "data": {
      "text/plain": [
       "(2900, 24, 24, 1)"
      ]
     },
     "execution_count": 116,
     "metadata": {},
     "output_type": "execute_result"
    }
   ],
   "source": [
    "# reshape the feat array to (24,24,1)\n",
    "img_rows,img_cols = 24,24\n",
    "feat = feat.reshape(feat.shape[0],img_rows,img_cols,1)\n",
    "feat.shape"
   ]
  },
  {
   "cell_type": "code",
   "execution_count": 117,
   "id": "inner-greensboro",
   "metadata": {},
   "outputs": [],
   "source": [
    "# we will be using keras to create the model:\n",
    "from keras.models import Sequential\n",
    "from keras.layers import Conv2D , MaxPooling2D , Flatten , Dense"
   ]
  },
  {
   "cell_type": "code",
   "execution_count": 118,
   "id": "soviet-hamilton",
   "metadata": {},
   "outputs": [],
   "source": [
    "# creating model:\n",
    "model = Sequential()\n",
    "\n",
    "model.add(Conv2D(64 , (3,3) , activation = 'relu' , input_shape= feat.shape[1:]))\n",
    "model.add(MaxPooling2D((1,1)))\n",
    "\n",
    "model.add(Conv2D(64 , (3,3) , activation = 'relu'))\n",
    "model.add(MaxPooling2D((1,1)))\n",
    "\n",
    "model.add(Conv2D(64 , (3,3) , activation = 'relu'))\n",
    "model.add(MaxPooling2D((1,1)))\n",
    "\n",
    "model.add(Flatten())\n",
    "\n",
    "model.add(Dense(128, activation = 'relu'))\n",
    "\n",
    "model.add(Dense(4, activation = 'softmax'))"
   ]
  },
  {
   "cell_type": "code",
   "execution_count": 119,
   "id": "seven-definition",
   "metadata": {},
   "outputs": [],
   "source": [
    "# compile model that we have created\n",
    "model.compile(optimizer = 'adam' , loss = 'sparse_categorical_crossentropy' , metrics = ['accuracy'])"
   ]
  },
  {
   "cell_type": "code",
   "execution_count": 120,
   "id": "nasty-measurement",
   "metadata": {},
   "outputs": [
    {
     "name": "stdout",
     "output_type": "stream",
     "text": [
      "Epoch 1/10\n"
     ]
    },
    {
     "name": "stdout",
     "output_type": "stream",
     "text": [
      "\u001b[1m82/82\u001b[0m \u001b[32m━━━━━━━━━━━━━━━━━━━━\u001b[0m\u001b[37m\u001b[0m \u001b[1m3s\u001b[0m 29ms/step - accuracy: 0.5875 - loss: 0.8947 - val_accuracy: 0.7897 - val_loss: 0.4549\n",
      "Epoch 2/10\n",
      "\u001b[1m82/82\u001b[0m \u001b[32m━━━━━━━━━━━━━━━━━━━━\u001b[0m\u001b[37m\u001b[0m \u001b[1m2s\u001b[0m 27ms/step - accuracy: 0.8192 - loss: 0.3731 - val_accuracy: 0.8552 - val_loss: 0.3469\n",
      "Epoch 3/10\n",
      "\u001b[1m82/82\u001b[0m \u001b[32m━━━━━━━━━━━━━━━━━━━━\u001b[0m\u001b[37m\u001b[0m \u001b[1m2s\u001b[0m 27ms/step - accuracy: 0.8661 - loss: 0.2992 - val_accuracy: 0.8586 - val_loss: 0.2725\n",
      "Epoch 4/10\n",
      "\u001b[1m82/82\u001b[0m \u001b[32m━━━━━━━━━━━━━━━━━━━━\u001b[0m\u001b[37m\u001b[0m \u001b[1m2s\u001b[0m 27ms/step - accuracy: 0.8956 - loss: 0.2514 - val_accuracy: 0.8759 - val_loss: 0.2630\n",
      "Epoch 5/10\n",
      "\u001b[1m82/82\u001b[0m \u001b[32m━━━━━━━━━━━━━━━━━━━━\u001b[0m\u001b[37m\u001b[0m \u001b[1m2s\u001b[0m 27ms/step - accuracy: 0.9264 - loss: 0.1784 - val_accuracy: 0.9103 - val_loss: 0.2058\n",
      "Epoch 6/10\n",
      "\u001b[1m82/82\u001b[0m \u001b[32m━━━━━━━━━━━━━━━━━━━━\u001b[0m\u001b[37m\u001b[0m \u001b[1m2s\u001b[0m 27ms/step - accuracy: 0.9468 - loss: 0.1369 - val_accuracy: 0.9034 - val_loss: 0.1967\n",
      "Epoch 7/10\n",
      "\u001b[1m82/82\u001b[0m \u001b[32m━━━━━━━━━━━━━━━━━━━━\u001b[0m\u001b[37m\u001b[0m \u001b[1m2s\u001b[0m 27ms/step - accuracy: 0.9675 - loss: 0.1016 - val_accuracy: 0.9276 - val_loss: 0.2034\n",
      "Epoch 8/10\n",
      "\u001b[1m82/82\u001b[0m \u001b[32m━━━━━━━━━━━━━━━━━━━━\u001b[0m\u001b[37m\u001b[0m \u001b[1m2s\u001b[0m 27ms/step - accuracy: 0.9666 - loss: 0.0910 - val_accuracy: 0.9276 - val_loss: 0.1815\n",
      "Epoch 9/10\n",
      "\u001b[1m82/82\u001b[0m \u001b[32m━━━━━━━━━━━━━━━━━━━━\u001b[0m\u001b[37m\u001b[0m \u001b[1m2s\u001b[0m 27ms/step - accuracy: 0.9899 - loss: 0.0383 - val_accuracy: 0.9483 - val_loss: 0.1421\n",
      "Epoch 10/10\n",
      "\u001b[1m82/82\u001b[0m \u001b[32m━━━━━━━━━━━━━━━━━━━━\u001b[0m\u001b[37m\u001b[0m \u001b[1m2s\u001b[0m 27ms/step - accuracy: 0.9872 - loss: 0.0375 - val_accuracy: 0.9345 - val_loss: 0.1737\n"
     ]
    },
    {
     "data": {
      "text/plain": [
       "<keras.src.callbacks.history.History at 0x2181994b170>"
      ]
     },
     "execution_count": 120,
     "metadata": {},
     "output_type": "execute_result"
    }
   ],
   "source": [
    "# fit feat , lbl to the model to see accuracy of model:\n",
    "model.fit(feat, lbl, epochs = 10 , validation_split = 0.1 , batch_size = 32)"
   ]
  },
  {
   "cell_type": "markdown",
   "id": "engaged-exclusive",
   "metadata": {},
   "source": []
  },
  {
   "cell_type": "code",
   "execution_count": 121,
   "id": "purple-worry",
   "metadata": {},
   "outputs": [],
   "source": [
    "# save model and architecture to single file\n",
    "model.save(\"drowsiness.keras\")"
   ]
  }
 ],
 "metadata": {
  "kernelspec": {
   "display_name": "Python 3",
   "language": "python",
   "name": "python3"
  },
  "language_info": {
   "codemirror_mode": {
    "name": "ipython",
    "version": 3
   },
   "file_extension": ".py",
   "mimetype": "text/x-python",
   "name": "python",
   "nbconvert_exporter": "python",
   "pygments_lexer": "ipython3",
   "version": "3.12.1"
  }
 },
 "nbformat": 4,
 "nbformat_minor": 5
}
