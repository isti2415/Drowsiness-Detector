{
 "cells": [
  {
   "cell_type": "markdown",
   "id": "dd4fb9e0",
   "metadata": {},
   "source": [
    "Install dependencies"
   ]
  },
  {
   "cell_type": "code",
   "execution_count": 166,
   "id": "5bab6594",
   "metadata": {},
   "outputs": [
    {
     "name": "stdout",
     "output_type": "stream",
     "text": [
      "Requirement already satisfied: opencv-python in c:\\users\\mail\\appdata\\roaming\\python\\python312\\site-packages (4.9.0.80)Note: you may need to restart the kernel to use updated packages.\n",
      "\n",
      "Requirement already satisfied: keras in c:\\users\\mail\\appdata\\roaming\\python\\python312\\site-packages (3.0.5)\n",
      "Requirement already satisfied: numpy in c:\\python312\\lib\\site-packages (1.26.3)\n",
      "Requirement already satisfied: matplotlib in c:\\users\\mail\\appdata\\roaming\\python\\python312\\site-packages (3.8.3)\n",
      "Requirement already satisfied: absl-py in c:\\users\\mail\\appdata\\roaming\\python\\python312\\site-packages (from keras) (2.1.0)\n",
      "Requirement already satisfied: rich in c:\\users\\mail\\appdata\\roaming\\python\\python312\\site-packages (from keras) (13.7.1)\n",
      "Requirement already satisfied: namex in c:\\users\\mail\\appdata\\roaming\\python\\python312\\site-packages (from keras) (0.0.7)\n",
      "Requirement already satisfied: h5py in c:\\users\\mail\\appdata\\roaming\\python\\python312\\site-packages (from keras) (3.10.0)\n",
      "Requirement already satisfied: dm-tree in c:\\users\\mail\\appdata\\roaming\\python\\python312\\site-packages (from keras) (0.1.8)\n",
      "Requirement already satisfied: ml-dtypes in c:\\users\\mail\\appdata\\roaming\\python\\python312\\site-packages (from keras) (0.3.2)\n",
      "Requirement already satisfied: contourpy>=1.0.1 in c:\\users\\mail\\appdata\\roaming\\python\\python312\\site-packages (from matplotlib) (1.2.0)\n",
      "Requirement already satisfied: cycler>=0.10 in c:\\users\\mail\\appdata\\roaming\\python\\python312\\site-packages (from matplotlib) (0.12.1)\n",
      "Requirement already satisfied: fonttools>=4.22.0 in c:\\users\\mail\\appdata\\roaming\\python\\python312\\site-packages (from matplotlib) (4.50.0)\n",
      "Requirement already satisfied: kiwisolver>=1.3.1 in c:\\users\\mail\\appdata\\roaming\\python\\python312\\site-packages (from matplotlib) (1.4.5)\n",
      "Requirement already satisfied: packaging>=20.0 in c:\\users\\mail\\appdata\\roaming\\python\\python312\\site-packages (from matplotlib) (24.0)\n",
      "Requirement already satisfied: pillow>=8 in c:\\python312\\lib\\site-packages (from matplotlib) (10.2.0)\n",
      "Requirement already satisfied: pyparsing>=2.3.1 in c:\\users\\mail\\appdata\\roaming\\python\\python312\\site-packages (from matplotlib) (3.1.2)\n",
      "Requirement already satisfied: python-dateutil>=2.7 in c:\\users\\mail\\appdata\\roaming\\python\\python312\\site-packages (from matplotlib) (2.9.0.post0)\n",
      "Requirement already satisfied: six>=1.5 in c:\\users\\mail\\appdata\\roaming\\python\\python312\\site-packages (from python-dateutil>=2.7->matplotlib) (1.16.0)\n",
      "Requirement already satisfied: markdown-it-py>=2.2.0 in c:\\users\\mail\\appdata\\roaming\\python\\python312\\site-packages (from rich->keras) (3.0.0)\n",
      "Requirement already satisfied: pygments<3.0.0,>=2.13.0 in c:\\users\\mail\\appdata\\roaming\\python\\python312\\site-packages (from rich->keras) (2.17.2)\n",
      "Requirement already satisfied: mdurl~=0.1 in c:\\users\\mail\\appdata\\roaming\\python\\python312\\site-packages (from markdown-it-py>=2.2.0->rich->keras) (0.1.2)\n"
     ]
    }
   ],
   "source": [
    "%pip install opencv-python keras numpy matplotlib --user"
   ]
  },
  {
   "cell_type": "markdown",
   "id": "7f1ea108",
   "metadata": {},
   "source": [
    "Import dependencies"
   ]
  },
  {
   "cell_type": "code",
   "execution_count": 167,
   "id": "historic-session",
   "metadata": {},
   "outputs": [],
   "source": [
    "import numpy as np\n",
    "import cv2\n",
    "import os\n",
    "import random\n",
    "import matplotlib.pyplot as plt\n",
    "import pickle"
   ]
  },
  {
   "cell_type": "markdown",
   "id": "06f33aba",
   "metadata": {},
   "source": [
    "Setup Dataset directory and category"
   ]
  },
  {
   "cell_type": "code",
   "execution_count": 168,
   "id": "first-wheel",
   "metadata": {},
   "outputs": [],
   "source": [
    "Directory = os.path.join('dataset', 'train')\n",
    "CATEGORIES = ['Closed' , 'Open', 'Yawn', 'No_yawn']"
   ]
  },
  {
   "cell_type": "markdown",
   "id": "1a51b00b",
   "metadata": {},
   "source": [
    "Convert dataset images to array"
   ]
  },
  {
   "cell_type": "code",
   "execution_count": 169,
   "id": "level-spine",
   "metadata": {},
   "outputs": [
    {
     "data": {
      "text/plain": [
       "2900"
      ]
     },
     "execution_count": 169,
     "metadata": {},
     "output_type": "execute_result"
    }
   ],
   "source": [
    "img_size = 24\n",
    "data = []\n",
    "\n",
    "for category in CATEGORIES:\n",
    "    folder = os.path.join(Directory,category)\n",
    "    label = CATEGORIES.index(category)\n",
    "    for img in os.listdir(folder):\n",
    "        img_path = os.path.join(folder, img)\n",
    "        img_arr = cv2.imread(img_path)\n",
    "        img_arr = cv2.cvtColor(img_arr, cv2.COLOR_BGR2GRAY)\n",
    "        img_arr = cv2.resize(img_arr,(img_size, img_size),1)\n",
    "        data.append([img_arr , label])\n",
    "        \n",
    "#Verify length of data\n",
    "len(data)"
   ]
  },
  {
   "cell_type": "markdown",
   "id": "c8d1a49f",
   "metadata": {},
   "source": [
    "Data preprocessing"
   ]
  },
  {
   "cell_type": "code",
   "execution_count": 170,
   "id": "cognitive-purple",
   "metadata": {},
   "outputs": [],
   "source": [
    "random.shuffle(data)\n",
    "\n",
    "feat = []\n",
    "lbl = []\n",
    "\n",
    "for features,label in data:\n",
    "    feat.append(features)\n",
    "    lbl.append(label)"
   ]
  },
  {
   "cell_type": "code",
   "execution_count": 171,
   "id": "answering-steel",
   "metadata": {},
   "outputs": [],
   "source": [
    "#covert them into array:\n",
    "feat = np.array(feat)\n",
    "lbl = np.array(lbl)"
   ]
  },
  {
   "cell_type": "code",
   "execution_count": 172,
   "id": "headed-addiction",
   "metadata": {},
   "outputs": [],
   "source": [
    "# save the data into system:\n",
    "pickle.dump(feat , open('feat.pkl' , 'wb'))\n",
    "pickle.dump(lbl , open('lbl.pkl' , 'wb'))"
   ]
  },
  {
   "cell_type": "code",
   "execution_count": 173,
   "id": "pretty-constitution",
   "metadata": {},
   "outputs": [],
   "source": [
    "# normalize the image array:\n",
    "feat = feat/255"
   ]
  },
  {
   "cell_type": "code",
   "execution_count": 174,
   "id": "scheduled-silver",
   "metadata": {},
   "outputs": [
    {
     "data": {
      "text/plain": [
       "array([[[0.54117647, 0.52941176, 0.52156863, ..., 0.55294118,\n",
       "         0.58823529, 0.56470588],\n",
       "        [0.50196078, 0.46666667, 0.43529412, ..., 0.50196078,\n",
       "         0.54901961, 0.55686275],\n",
       "        [0.38039216, 0.33333333, 0.29411765, ..., 0.50588235,\n",
       "         0.52156863, 0.55294118],\n",
       "        ...,\n",
       "        [0.3254902 , 0.29803922, 0.28235294, ..., 0.41960784,\n",
       "         0.4745098 , 0.49019608],\n",
       "        [0.39607843, 0.30196078, 0.3254902 , ..., 0.47058824,\n",
       "         0.45882353, 0.46666667],\n",
       "        [0.42745098, 0.41568627, 0.36470588, ..., 0.48627451,\n",
       "         0.47058824, 0.48627451]],\n",
       "\n",
       "       [[0.40784314, 0.36470588, 0.34509804, ..., 0.35294118,\n",
       "         0.3372549 , 0.33333333],\n",
       "        [0.39607843, 0.35294118, 0.22745098, ..., 0.35686275,\n",
       "         0.33333333, 0.33333333],\n",
       "        [0.41176471, 0.32941176, 0.3372549 , ..., 0.2627451 ,\n",
       "         0.33333333, 0.3254902 ],\n",
       "        ...,\n",
       "        [0.40392157, 0.34901961, 0.36078431, ..., 0.38039216,\n",
       "         0.38039216, 0.38431373],\n",
       "        [0.40784314, 0.39215686, 0.35294118, ..., 0.38823529,\n",
       "         0.39607843, 0.38823529],\n",
       "        [0.4       , 0.39607843, 0.37254902, ..., 0.41176471,\n",
       "         0.4       , 0.38823529]],\n",
       "\n",
       "       [[0.45882353, 0.48235294, 0.45882353, ..., 0.2       ,\n",
       "         0.10196078, 0.14117647],\n",
       "        [0.46666667, 0.46666667, 0.45490196, ..., 0.15294118,\n",
       "         0.14117647, 0.11372549],\n",
       "        [0.48235294, 0.47843137, 0.44313725, ..., 0.13333333,\n",
       "         0.11764706, 0.05490196],\n",
       "        ...,\n",
       "        [0.3254902 , 0.34509804, 0.34901961, ..., 0.34901961,\n",
       "         0.3372549 , 0.30196078],\n",
       "        [0.32156863, 0.32156863, 0.36078431, ..., 0.35294118,\n",
       "         0.32156863, 0.29019608],\n",
       "        [0.32156863, 0.32941176, 0.3372549 , ..., 0.34901961,\n",
       "         0.31372549, 0.27843137]],\n",
       "\n",
       "       ...,\n",
       "\n",
       "       [[0.30588235, 0.30980392, 0.32156863, ..., 0.82352941,\n",
       "         1.        , 1.        ],\n",
       "        [0.27843137, 0.29019608, 0.31372549, ..., 0.90196078,\n",
       "         0.98039216, 1.        ],\n",
       "        [0.28235294, 0.29019608, 0.29019608, ..., 0.80784314,\n",
       "         0.91372549, 0.98823529],\n",
       "        ...,\n",
       "        [0.11764706, 0.06666667, 0.04313725, ..., 0.00784314,\n",
       "         0.01176471, 0.07058824],\n",
       "        [0.03529412, 0.11764706, 0.42352941, ..., 0.        ,\n",
       "         0.        , 0.06666667],\n",
       "        [0.12941176, 0.1372549 , 0.08627451, ..., 0.90980392,\n",
       "         0.00784314, 0.02352941]],\n",
       "\n",
       "       [[0.36862745, 0.36078431, 0.36078431, ..., 0.43529412,\n",
       "         0.42352941, 0.38823529],\n",
       "        [0.36078431, 0.34901961, 0.35686275, ..., 0.44313725,\n",
       "         0.41176471, 0.38823529],\n",
       "        [0.35294118, 0.34117647, 0.33333333, ..., 0.44705882,\n",
       "         0.41176471, 0.38431373],\n",
       "        ...,\n",
       "        [0.29411765, 0.29019608, 0.27843137, ..., 0.32156863,\n",
       "         0.35686275, 0.37254902],\n",
       "        [0.28235294, 0.29803922, 0.28627451, ..., 0.32941176,\n",
       "         0.35294118, 0.36862745],\n",
       "        [0.29411765, 0.28627451, 0.28235294, ..., 0.32941176,\n",
       "         0.34901961, 0.36078431]],\n",
       "\n",
       "       [[0.89019608, 0.89803922, 0.90196078, ..., 0.9372549 ,\n",
       "         0.93333333, 0.9254902 ],\n",
       "        [0.89411765, 0.89803922, 0.90196078, ..., 0.92941176,\n",
       "         0.91764706, 0.90196078],\n",
       "        [0.89411765, 0.89803922, 0.89803922, ..., 0.88627451,\n",
       "         0.88235294, 0.88627451],\n",
       "        ...,\n",
       "        [0.92156863, 0.9372549 , 0.94117647, ..., 0.9372549 ,\n",
       "         0.95294118, 0.95294118],\n",
       "        [0.93333333, 0.93333333, 0.94509804, ..., 0.94901961,\n",
       "         0.96078431, 0.95294118],\n",
       "        [0.9254902 , 0.93333333, 0.95294118, ..., 0.97254902,\n",
       "         0.95294118, 0.93333333]]])"
      ]
     },
     "execution_count": 174,
     "metadata": {},
     "output_type": "execute_result"
    }
   ],
   "source": [
    "feat"
   ]
  },
  {
   "cell_type": "code",
   "execution_count": 175,
   "id": "current-pasta",
   "metadata": {},
   "outputs": [
    {
     "data": {
      "text/plain": [
       "(2900, 24, 24, 1)"
      ]
     },
     "execution_count": 175,
     "metadata": {},
     "output_type": "execute_result"
    }
   ],
   "source": [
    "# reshape the feat array to (24,24,1)\n",
    "img_rows,img_cols = 24,24\n",
    "feat = feat.reshape(feat.shape[0],img_rows,img_cols,1)\n",
    "feat.shape"
   ]
  },
  {
   "cell_type": "code",
   "execution_count": 176,
   "id": "inner-greensboro",
   "metadata": {},
   "outputs": [],
   "source": [
    "# we will be using keras to create the model:\n",
    "from keras.models import Sequential\n",
    "from keras.layers import Conv2D , MaxPooling2D , Flatten , Dense"
   ]
  },
  {
   "cell_type": "code",
   "execution_count": 177,
   "id": "soviet-hamilton",
   "metadata": {},
   "outputs": [],
   "source": [
    "# creating model:\n",
    "model = Sequential()\n",
    "\n",
    "model.add(Conv2D(64 , (3,3) , activation = 'relu' , input_shape= feat.shape[1:]))\n",
    "model.add(MaxPooling2D((1,1)))\n",
    "\n",
    "model.add(Conv2D(64 , (3,3) , activation = 'relu'))\n",
    "model.add(MaxPooling2D((1,1)))\n",
    "\n",
    "model.add(Conv2D(64 , (3,3) , activation = 'relu'))\n",
    "model.add(MaxPooling2D((1,1)))\n",
    "\n",
    "model.add(Flatten())\n",
    "\n",
    "model.add(Dense(128, activation = 'relu'))\n",
    "\n",
    "model.add(Dense(4, activation = 'softmax'))"
   ]
  },
  {
   "cell_type": "code",
   "execution_count": 178,
   "id": "seven-definition",
   "metadata": {},
   "outputs": [],
   "source": [
    "# compile model that we have created\n",
    "model.compile(optimizer = 'adam' , loss = 'sparse_categorical_crossentropy' , metrics = ['accuracy'])"
   ]
  },
  {
   "cell_type": "code",
   "execution_count": 179,
   "id": "nasty-measurement",
   "metadata": {},
   "outputs": [
    {
     "name": "stdout",
     "output_type": "stream",
     "text": [
      "Epoch 1/14\n"
     ]
    },
    {
     "name": "stdout",
     "output_type": "stream",
     "text": [
      "\u001b[1m82/82\u001b[0m \u001b[32m━━━━━━━━━━━━━━━━━━━━\u001b[0m\u001b[37m\u001b[0m \u001b[1m3s\u001b[0m 31ms/step - accuracy: 0.6113 - loss: 0.8689 - val_accuracy: 0.8103 - val_loss: 0.3660\n",
      "Epoch 2/14\n",
      "\u001b[1m82/82\u001b[0m \u001b[32m━━━━━━━━━━━━━━━━━━━━\u001b[0m\u001b[37m\u001b[0m \u001b[1m2s\u001b[0m 30ms/step - accuracy: 0.8242 - loss: 0.3566 - val_accuracy: 0.8276 - val_loss: 0.3401\n",
      "Epoch 3/14\n",
      "\u001b[1m82/82\u001b[0m \u001b[32m━━━━━━━━━━━━━━━━━━━━\u001b[0m\u001b[37m\u001b[0m \u001b[1m2s\u001b[0m 30ms/step - accuracy: 0.8642 - loss: 0.2892 - val_accuracy: 0.7724 - val_loss: 0.3910\n",
      "Epoch 4/14\n",
      "\u001b[1m82/82\u001b[0m \u001b[32m━━━━━━━━━━━━━━━━━━━━\u001b[0m\u001b[37m\u001b[0m \u001b[1m2s\u001b[0m 29ms/step - accuracy: 0.8549 - loss: 0.3020 - val_accuracy: 0.8931 - val_loss: 0.2444\n",
      "Epoch 5/14\n",
      "\u001b[1m82/82\u001b[0m \u001b[32m━━━━━━━━━━━━━━━━━━━━\u001b[0m\u001b[37m\u001b[0m \u001b[1m2s\u001b[0m 29ms/step - accuracy: 0.9190 - loss: 0.2014 - val_accuracy: 0.9103 - val_loss: 0.2347\n",
      "Epoch 6/14\n",
      "\u001b[1m82/82\u001b[0m \u001b[32m━━━━━━━━━━━━━━━━━━━━\u001b[0m\u001b[37m\u001b[0m \u001b[1m2s\u001b[0m 30ms/step - accuracy: 0.9450 - loss: 0.1417 - val_accuracy: 0.9172 - val_loss: 0.1586\n",
      "Epoch 7/14\n",
      "\u001b[1m82/82\u001b[0m \u001b[32m━━━━━━━━━━━━━━━━━━━━\u001b[0m\u001b[37m\u001b[0m \u001b[1m2s\u001b[0m 29ms/step - accuracy: 0.9567 - loss: 0.1207 - val_accuracy: 0.9138 - val_loss: 0.1888\n",
      "Epoch 8/14\n",
      "\u001b[1m82/82\u001b[0m \u001b[32m━━━━━━━━━━━━━━━━━━━━\u001b[0m\u001b[37m\u001b[0m \u001b[1m2s\u001b[0m 30ms/step - accuracy: 0.9716 - loss: 0.0715 - val_accuracy: 0.9586 - val_loss: 0.1438\n",
      "Epoch 9/14\n",
      "\u001b[1m82/82\u001b[0m \u001b[32m━━━━━━━━━━━━━━━━━━━━\u001b[0m\u001b[37m\u001b[0m \u001b[1m3s\u001b[0m 31ms/step - accuracy: 0.9840 - loss: 0.0501 - val_accuracy: 0.9345 - val_loss: 0.2198\n",
      "Epoch 10/14\n",
      "\u001b[1m82/82\u001b[0m \u001b[32m━━━━━━━━━━━━━━━━━━━━\u001b[0m\u001b[37m\u001b[0m \u001b[1m3s\u001b[0m 31ms/step - accuracy: 0.9843 - loss: 0.0422 - val_accuracy: 0.9345 - val_loss: 0.2361\n",
      "Epoch 11/14\n",
      "\u001b[1m82/82\u001b[0m \u001b[32m━━━━━━━━━━━━━━━━━━━━\u001b[0m\u001b[37m\u001b[0m \u001b[1m3s\u001b[0m 33ms/step - accuracy: 0.9812 - loss: 0.0477 - val_accuracy: 0.9414 - val_loss: 0.2025\n",
      "Epoch 12/14\n",
      "\u001b[1m82/82\u001b[0m \u001b[32m━━━━━━━━━━━━━━━━━━━━\u001b[0m\u001b[37m\u001b[0m \u001b[1m3s\u001b[0m 30ms/step - accuracy: 0.9928 - loss: 0.0242 - val_accuracy: 0.9517 - val_loss: 0.2060\n",
      "Epoch 13/14\n",
      "\u001b[1m82/82\u001b[0m \u001b[32m━━━━━━━━━━━━━━━━━━━━\u001b[0m\u001b[37m\u001b[0m \u001b[1m3s\u001b[0m 32ms/step - accuracy: 0.9963 - loss: 0.0115 - val_accuracy: 0.9448 - val_loss: 0.2267\n",
      "Epoch 14/14\n",
      "\u001b[1m82/82\u001b[0m \u001b[32m━━━━━━━━━━━━━━━━━━━━\u001b[0m\u001b[37m\u001b[0m \u001b[1m2s\u001b[0m 30ms/step - accuracy: 0.9929 - loss: 0.0196 - val_accuracy: 0.9448 - val_loss: 0.2369\n"
     ]
    },
    {
     "data": {
      "text/plain": [
       "<keras.src.callbacks.history.History at 0x2181d2b2bd0>"
      ]
     },
     "execution_count": 179,
     "metadata": {},
     "output_type": "execute_result"
    }
   ],
   "source": [
    "# fit feat , lbl to the model to see accuracy of model:\n",
    "model.fit(feat, lbl, epochs = 14 , validation_split = 0.1 , batch_size = 32)"
   ]
  },
  {
   "cell_type": "markdown",
   "id": "engaged-exclusive",
   "metadata": {},
   "source": []
  },
  {
   "cell_type": "code",
   "execution_count": 180,
   "id": "purple-worry",
   "metadata": {},
   "outputs": [],
   "source": [
    "# save model and architecture to single file\n",
    "model.save(\"drowsiness.keras\")"
   ]
  }
 ],
 "metadata": {
  "kernelspec": {
   "display_name": "Python 3",
   "language": "python",
   "name": "python3"
  },
  "language_info": {
   "codemirror_mode": {
    "name": "ipython",
    "version": 3
   },
   "file_extension": ".py",
   "mimetype": "text/x-python",
   "name": "python",
   "nbconvert_exporter": "python",
   "pygments_lexer": "ipython3",
   "version": "3.12.1"
  }
 },
 "nbformat": 4,
 "nbformat_minor": 5
}
